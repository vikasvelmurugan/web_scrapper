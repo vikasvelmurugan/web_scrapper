{
 "cells": [
  {
   "cell_type": "code",
   "execution_count": 49,
   "id": "fef7ac58",
   "metadata": {},
   "outputs": [],
   "source": [
    "import requests\n",
    "from bs4 import BeautifulSoup as bs\n",
    "from urllib.request import urlopen\n",
    "import logging\n",
    "\n",
    "flipkart_url = \"https://www.flipkart.com/search?q=\" + \"tv\"\n",
    "\n",
    "urlclient = urlopen(flipkart_url)\n",
    "\n",
    "#print(urlclient.read()) ## gets all the data from the homepage"
   ]
  },
  {
   "cell_type": "code",
   "execution_count": 50,
   "id": "ec752297",
   "metadata": {},
   "outputs": [],
   "source": [
    "flipkart_homepage = urlclient.read()"
   ]
  },
  {
   "cell_type": "code",
   "execution_count": 51,
   "id": "4f0f3968",
   "metadata": {},
   "outputs": [],
   "source": [
    "flipkart_html = bs(flipkart_homepage, 'html.parser')"
   ]
  },
  {
   "cell_type": "markdown",
   "id": "430305ce",
   "metadata": {},
   "source": [
    "### Objective - Access the link of every product so that we can later automate the scrapping of data"
   ]
  },
  {
   "cell_type": "code",
   "execution_count": 52,
   "id": "f8256d07",
   "metadata": {},
   "outputs": [],
   "source": [
    "#flipkart_html"
   ]
  },
  {
   "cell_type": "code",
   "execution_count": 53,
   "id": "5045a879",
   "metadata": {},
   "outputs": [],
   "source": [
    "products = flipkart_html.find_all(\"div\", {\"class\":\"_1AtVbE col-12-12\"} )"
   ]
  },
  {
   "cell_type": "code",
   "execution_count": 54,
   "id": "1c22ef38",
   "metadata": {},
   "outputs": [
    {
     "data": {
      "text/plain": [
       "30"
      ]
     },
     "execution_count": 54,
     "metadata": {},
     "output_type": "execute_result"
    }
   ],
   "source": [
    "len(products)"
   ]
  },
  {
   "cell_type": "code",
   "execution_count": 55,
   "id": "876ef4c6",
   "metadata": {},
   "outputs": [],
   "source": [
    "del products[0:3]"
   ]
  },
  {
   "cell_type": "code",
   "execution_count": 56,
   "id": "35aa0aa3",
   "metadata": {},
   "outputs": [
    {
     "name": "stdout",
     "output_type": "stream",
     "text": [
      "https://www.flipkart.com/thomson-phoenix-108-cm-43-inch-qled-ultra-hd-4k-smart-google-tv-dolby-vision-atmos/p/itm70a7a64aa66d3?pid=TVSGSHZRWZPTZ47Z&lid=LSTTVSGSHZRWZPTZ47ZXMEUVE&marketplace=FLIPKART&q=tv&store=ckf%2Fczl&srno=s_1_2&otracker=search&fm=organic&iid=en_GHENQEkKaMb7KToDmWrI_dLpd_NF0AWbPfrr50efyc9GQ98PAiGPSQYIbg2CbJqYzQwRvXLO3ZhslbFoh1bKsQ%3D%3D&ppt=None&ppn=None&ssid=zw6kry29io0000001708868566169&qH=c9a1fdac6e082dd8\n",
      "https://www.flipkart.com/motorola-envisionx-140-cm-55-inch-qled-ultra-hd-4k-smart-google-tv-dolby-vision-atmos/p/itm1cfe8a61a68c5?pid=TVSGSRQ9SXPXPTXJ&lid=LSTTVSGSRQ9SXPXPTXJW7XESH&marketplace=FLIPKART&q=tv&store=ckf%2Fczl&srno=s_1_3&otracker=search&fm=organic&iid=en_GHENQEkKaMb7KToDmWrI_dLpd_NF0AWbPfrr50efyc9rGFILFJsOGqXxXitSwd5ObDuogk9MwaG4AryX-1PXjuvN4Mn-dv-pi277bRzMbnY%3D&ppt=None&ppn=None&ssid=zw6kry29io0000001708868566169&qH=c9a1fdac6e082dd8\n",
      "https://www.flipkart.com/lg-80-cm-32-inch-hd-ready-led-smart-webos-tv/p/itmb2ff267644902?pid=TVSGC8FKBCFFBFT7&lid=LSTTVSGC8FKBCFFBFT78ATBNW&marketplace=FLIPKART&q=tv&store=ckf%2Fczl&srno=s_1_4&otracker=search&fm=organic&iid=69d49e0e-ac09-4d48-866e-00219c5a9a10.TVSGC8FKBCFFBFT7.SEARCH&ppt=None&ppn=None&ssid=zw6kry29io0000001708868566169&qH=c9a1fdac6e082dd8\n",
      "https://www.flipkart.com/mi-series-80-cm-32-inch-hd-ready-led-smart-google-tv-2023-dolby-audio-dts-hd-vivid-picture-engine/p/itmf15b4727d84f5?pid=TVSGREPAZX8CN9QS&lid=LSTTVSGREPAZX8CN9QSFY3T6T&marketplace=FLIPKART&q=tv&store=ckf%2Fczl&spotlightTagId=BestsellerId_ckf%2Fczl&srno=s_1_5&otracker=search&fm=organic&iid=69d49e0e-ac09-4d48-866e-00219c5a9a10.TVSGREPAZX8CN9QS.SEARCH&ppt=None&ppn=None&ssid=zw6kry29io0000001708868566169&qH=c9a1fdac6e082dd8\n",
      "https://www.flipkart.com/lg-80-cm-32-inch-hd-ready-led-smart-webos-tv-2023-a5-ai-processor-gen5-refresh-rate-60-hertz-magic-remote-capability/p/itmf3b681525947c?pid=TVSGS8GYDQXWP8QX&lid=LSTTVSGS8GYDQXWP8QX2GXHQP&marketplace=FLIPKART&q=tv&store=ckf%2Fczl&srno=s_1_6&otracker=search&fm=organic&iid=69d49e0e-ac09-4d48-866e-00219c5a9a10.TVSGS8GYDQXWP8QX.SEARCH&ppt=None&ppn=None&ssid=zw6kry29io0000001708868566169&qH=c9a1fdac6e082dd8\n",
      "https://www.flipkart.com/motorola-envisionx-109-cm-43-inch-full-hd-led-smart-google-tv-inbuilt-box-speakers/p/itmc2fd3aab56197?pid=TVSGRFZNKSWQN6G8&lid=LSTTVSGRFZNKSWQN6G8OEOKIW&marketplace=FLIPKART&q=tv&store=ckf%2Fczl&srno=s_1_7&otracker=search&fm=organic&iid=en_GHENQEkKaMb7KToDmWrI_dLpd_NF0AWbPfrr50efyc-cXB7gYkfr8BDLxORfHcwvKtPGOqTEFuT6jPreE_m3h2aRs4JL222ZRV-dN99QnxU%3D&ppt=None&ppn=None&ssid=zw6kry29io0000001708868566169&qH=c9a1fdac6e082dd8\n",
      "https://www.flipkart.com/innoq-frameless-80-cm-32-inch-hd-ready-led-tv-pixel-boost-engine-thunder-audio-speakers/p/itmbc470bf6b64ee?pid=TVSGBUJQSFEHXANK&lid=LSTTVSGBUJQSFEHXANKXUQA63&marketplace=FLIPKART&q=tv&store=ckf%2Fczl&srno=s_1_8&otracker=search&fm=organic&iid=en_GHENQEkKaMb7KToDmWrI_dLpd_NF0AWbPfrr50efyc8exPaW7dUjJxQt-rsIBrkdA6WqLrfeQagDpMpTncZEgQ%3D%3D&ppt=None&ppn=None&ssid=zw6kry29io0000001708868566169&qH=c9a1fdac6e082dd8\n",
      "https://www.flipkart.com/thomson-alpha-80-cm-32-inch-hd-ready-led-smart-linux-tv-2022-30-w-sound-output-bezel-less-design/p/itmbbd33333c58bb?pid=TVSGEMQV7R4CMTGA&lid=LSTTVSGEMQV7R4CMTGAODWDFI&marketplace=FLIPKART&q=tv&store=ckf%2Fczl&srno=s_1_9&otracker=search&fm=organic&iid=69d49e0e-ac09-4d48-866e-00219c5a9a10.TVSGEMQV7R4CMTGA.SEARCH&ppt=None&ppn=None&ssid=zw6kry29io0000001708868566169&qH=c9a1fdac6e082dd8\n",
      "https://www.flipkart.com/thomson-alpha-60-cm-24-inch-hd-ready-led-smart-linux-tv-2023-20-w-sound-output/p/itm8e1f318f88ccc?pid=TVSGMGWWZYMMPG83&lid=LSTTVSGMGWWZYMMPG8351NAS0&marketplace=FLIPKART&q=tv&store=ckf%2Fczl&srno=s_1_10&otracker=search&fm=organic&iid=69d49e0e-ac09-4d48-866e-00219c5a9a10.TVSGMGWWZYMMPG83.SEARCH&ppt=None&ppn=None&ssid=zw6kry29io0000001708868566169&qH=c9a1fdac6e082dd8\n",
      "https://www.flipkart.com/motorola-envisionx-165-cm-65-inch-qled-ultra-hd-4k-smart-google-tv-dolby-vision-atmos/p/itm767828569c629?pid=TVSGRTDDGYA4HPWU&lid=LSTTVSGRTDDGYA4HPWUZVEWYT&marketplace=FLIPKART&q=tv&store=ckf%2Fczl&srno=s_1_11&otracker=search&fm=organic&iid=en_GHENQEkKaMb7KToDmWrI_dLpd_NF0AWbPfrr50efyc-qHal9k6TLs59wNpoCuZnjnnWOZi0dvFqJC7ikEdGyF_KSJvID5C-RdFfAlzwDiqI%3D&ppt=None&ppn=None&ssid=zw6kry29io0000001708868566169&qH=c9a1fdac6e082dd8\n",
      "https://www.flipkart.com/marq-flipkart-80-cm-32-inch-hd-ready-led-smart-coolita-tv/p/itm7ae0cc4128a8c?pid=TVSGQTE6UPCYTDHQ&lid=LSTTVSGQTE6UPCYTDHQ2IYTQS&marketplace=FLIPKART&q=tv&store=ckf%2Fczl&srno=s_1_12&otracker=search&fm=organic&iid=en_GHENQEkKaMb7KToDmWrI_dLpd_NF0AWbPfrr50efyc-QD2bpnUi027sJlAWVJ336jek4Qk0qx-Dg-XIVvF7WAA%3D%3D&ppt=None&ppn=None&ssid=zw6kry29io0000001708868566169&qH=c9a1fdac6e082dd8\n",
      "https://www.flipkart.com/samsung-80-cm-32-inch-hd-ready-led-smart-tizen-tv-2022-bezel-free-design/p/itm33b1495b9e937?pid=TVSGHY2UZA9YHWQN&lid=LSTTVSGHY2UZA9YHWQNCPAW6M&marketplace=FLIPKART&q=tv&store=ckf%2Fczl&spotlightTagId=BestsellerId_ckf%2Fczl&srno=s_1_13&otracker=search&fm=organic&iid=69d49e0e-ac09-4d48-866e-00219c5a9a10.TVSGHY2UZA9YHWQN.SEARCH&ppt=None&ppn=None&ssid=zw6kry29io0000001708868566169&qH=c9a1fdac6e082dd8\n",
      "https://www.flipkart.com/mi-x-series-108-cm-43-inch-ultra-hd-4k-led-smart-google-tv-2023-4k-dolby-vision-hdr-10-audio-dts-dts-virtual-vivid-picture-engine/p/itm711e2d52b862e?pid=TVSGREPACR6KEVFG&lid=LSTTVSGREPACR6KEVFGMYWYNK&marketplace=FLIPKART&q=tv&store=ckf%2Fczl&srno=s_1_14&otracker=search&fm=organic&iid=69d49e0e-ac09-4d48-866e-00219c5a9a10.TVSGREPACR6KEVFG.SEARCH&ppt=None&ppn=None&ssid=zw6kry29io0000001708868566169&qH=c9a1fdac6e082dd8\n",
      "https://www.flipkart.com/iffalcon-tcl-79-97-cm-32-inch-hd-ready-led-smart-android-tv-google-assistant/p/itm96e1c0ac31c75?pid=TVSGKNZGHCZRNEDW&lid=LSTTVSGKNZGHCZRNEDWPKDF2X&marketplace=FLIPKART&q=tv&store=ckf%2Fczl&spotlightTagId=BestsellerId_ckf%2Fczl&srno=s_1_15&otracker=search&fm=organic&iid=69d49e0e-ac09-4d48-866e-00219c5a9a10.TVSGKNZGHCZRNEDW.SEARCH&ppt=None&ppn=None&ssid=zw6kry29io0000001708868566169&qH=c9a1fdac6e082dd8\n",
      "https://www.flipkart.com/acer-advanced-series-102-cm-40-inch-full-hd-led-smart-google-tv-2023-1-5gb-ram-16gb-storage-30w-dolby-audio/p/itme43d0ff0dabbf?pid=TVSGPGXBCEPEZH2Q&lid=LSTTVSGPGXBCEPEZH2Q2NPGRM&marketplace=FLIPKART&q=tv&store=ckf%2Fczl&srno=s_1_16&otracker=search&fm=organic&iid=69d49e0e-ac09-4d48-866e-00219c5a9a10.TVSGPGXBCEPEZH2Q.SEARCH&ppt=None&ppn=None&ssid=zw6kry29io0000001708868566169&qH=c9a1fdac6e082dd8\n",
      "https://www.flipkart.com/motorola-envisionx-109-cm-43-inch-ultra-hd-4k-led-smart-google-tv-inbuilt-box-speakers/p/itm127136f88d773?pid=TVSGRFZN4AXHVHFQ&lid=LSTTVSGRFZN4AXHVHFQTBZ78Q&marketplace=FLIPKART&q=tv&store=ckf%2Fczl&srno=s_1_17&otracker=search&fm=organic&iid=en_GHENQEkKaMb7KToDmWrI_dLpd_NF0AWbPfrr50efyc_eL8mPmH18wkCUGaSnoFzPxMivRhUsQRGyBRbUVf-Cj8DbPjpExlWhmpgUQnOg2ao%3D&ppt=None&ppn=None&ssid=zw6kry29io0000001708868566169&qH=c9a1fdac6e082dd8\n",
      "https://www.flipkart.com/motorola-envisionx-140-cm-55-inch-ultra-hd-4k-led-smart-google-tv-inbuilt-box-speakers/p/itm8efa836d4e588?pid=TVSGRFZNG6FY3D2S&lid=LSTTVSGRFZNG6FY3D2SWPWE8S&marketplace=FLIPKART&q=tv&store=ckf%2Fczl&srno=s_1_18&otracker=search&fm=organic&iid=en_GHENQEkKaMb7KToDmWrI_dLpd_NF0AWbPfrr50efyc9Zo1V2qE8dp9cRWOngxv67O2KoznfzQ2fxamZh3-TCyGJMZAJirnjvZRqZ0WhE16A%3D&ppt=None&ppn=None&ssid=zw6kry29io0000001708868566169&qH=c9a1fdac6e082dd8\n",
      "https://www.flipkart.com/thomson-fa-series-80-cm-32-inch-hd-ready-led-smart-android-tv-2023-dolby-digital-plus-11/p/itmd1f23f51d665c?pid=TVSGZ8GQEPCENXHC&lid=LSTTVSGZ8GQEPCENXHCUQG7AH&marketplace=FLIPKART&q=tv&store=ckf%2Fczl&srno=s_1_19&otracker=search&fm=organic&iid=69d49e0e-ac09-4d48-866e-00219c5a9a10.TVSGZ8GQEPCENXHC.SEARCH&ppt=None&ppn=None&ssid=zw6kry29io0000001708868566169&qH=c9a1fdac6e082dd8\n",
      "https://www.flipkart.com/redmi-108-cm-43-inch-ultra-hd-4k-led-smart-android-tv-2023-dolby-atmos-vision/p/itm340ec58fc0c10?pid=TVSGWU5AAQKQHMRN&lid=LSTTVSGWU5AAQKQHMRNY1VMPC&marketplace=FLIPKART&q=tv&store=ckf%2Fczl&srno=s_1_20&otracker=search&fm=organic&iid=69d49e0e-ac09-4d48-866e-00219c5a9a10.TVSGWU5AAQKQHMRN.SEARCH&ppt=None&ppn=None&ssid=zw6kry29io0000001708868566169&qH=c9a1fdac6e082dd8\n",
      "https://www.flipkart.com/xelectron-60-cm-24-inch-hd-ready-led-tv-2023/p/itm74ba3ca6dc956?pid=TVSGZVG5GZTFFHMU&lid=LSTTVSGZVG5GZTFFHMUOKTFAM&marketplace=FLIPKART&q=tv&store=ckf%2Fczl&srno=s_1_21&otracker=search&fm=organic&iid=en_GHENQEkKaMb7KToDmWrI_dLpd_NF0AWbPfrr50efyc-ahmqKYbRGC2BItRjOPH0VA9u79FkIYFseUD9MDPmTrA%3D%3D&ppt=None&ppn=None&ssid=zw6kry29io0000001708868566169&qH=c9a1fdac6e082dd8\n",
      "https://www.flipkart.com/thomson-fa-series-108-cm-43-inch-full-hd-led-smart-android-tv-2023-dolby-digital-plus-11/p/itm75d525f0dae3c?pid=TVSGZ8GQDGNYHDPR&lid=LSTTVSGZ8GQDGNYHDPRCQX3DW&marketplace=FLIPKART&q=tv&store=ckf%2Fczl&srno=s_1_22&otracker=search&fm=organic&iid=69d49e0e-ac09-4d48-866e-00219c5a9a10.TVSGZ8GQDGNYHDPR.SEARCH&ppt=None&ppn=None&ssid=zw6kry29io0000001708868566169&qH=c9a1fdac6e082dd8\n",
      "https://www.flipkart.com/mi-series-100-cm-40-inch-full-hd-led-smart-google-tv-2023-fhd-dolby-audio-dts-virtual-x-vivid-picture-engine/p/itm1108e4dd54833?pid=TVSGREPAWWQF4TD8&lid=LSTTVSGREPAWWQF4TD8TD4CFK&marketplace=FLIPKART&q=tv&store=ckf%2Fczl&srno=s_1_23&otracker=search&fm=organic&iid=69d49e0e-ac09-4d48-866e-00219c5a9a10.TVSGREPAWWQF4TD8.SEARCH&ppt=None&ppn=None&ssid=zw6kry29io0000001708868566169&qH=c9a1fdac6e082dd8\n",
      "https://www.flipkart.com/samsung-crystal-4k-ismart-series-108-cm-43-inch-ultra-hd-4k-led-smart-tizen-tv-2023/p/itm7a343870e0150?pid=TVSGZF57QGYKHGNS&lid=LSTTVSGZF57QGYKHGNSWCWTOY&marketplace=FLIPKART&q=tv&store=ckf%2Fczl&srno=s_1_24&otracker=search&fm=organic&iid=69d49e0e-ac09-4d48-866e-00219c5a9a10.TVSGZF57QGYKHGNS.SEARCH&ppt=None&ppn=None&ssid=zw6kry29io0000001708868566169&qH=c9a1fdac6e082dd8\n"
     ]
    },
    {
     "ename": "AttributeError",
     "evalue": "'NoneType' object has no attribute 'a'",
     "output_type": "error",
     "traceback": [
      "\u001b[1;31m---------------------------------------------------------------------------\u001b[0m",
      "\u001b[1;31mAttributeError\u001b[0m                            Traceback (most recent call last)",
      "\u001b[1;32m~\\AppData\\Local\\Temp\\ipykernel_22008\\2258226143.py\u001b[0m in \u001b[0;36m<module>\u001b[1;34m\u001b[0m\n\u001b[0;32m      1\u001b[0m \u001b[1;32mfor\u001b[0m \u001b[0mi\u001b[0m \u001b[1;32min\u001b[0m \u001b[0mproducts\u001b[0m\u001b[1;33m:\u001b[0m\u001b[1;33m\u001b[0m\u001b[1;33m\u001b[0m\u001b[0m\n\u001b[1;32m----> 2\u001b[1;33m     \u001b[0mprint\u001b[0m\u001b[1;33m(\u001b[0m\u001b[1;34m\"https://www.flipkart.com\"\u001b[0m \u001b[1;33m+\u001b[0m \u001b[0mi\u001b[0m\u001b[1;33m.\u001b[0m\u001b[0mdiv\u001b[0m\u001b[1;33m.\u001b[0m\u001b[0mdiv\u001b[0m\u001b[1;33m.\u001b[0m\u001b[0mdiv\u001b[0m\u001b[1;33m.\u001b[0m\u001b[0ma\u001b[0m\u001b[1;33m[\u001b[0m\u001b[1;34m'href'\u001b[0m\u001b[1;33m]\u001b[0m\u001b[1;33m)\u001b[0m\u001b[1;33m\u001b[0m\u001b[1;33m\u001b[0m\u001b[0m\n\u001b[0m",
      "\u001b[1;31mAttributeError\u001b[0m: 'NoneType' object has no attribute 'a'"
     ]
    }
   ],
   "source": [
    "\n",
    "for i in products:\n",
    "    print(\"https://www.flipkart.com\" + i.div.div.div.a['href'])"
   ]
  },
  {
   "cell_type": "code",
   "execution_count": 58,
   "id": "380058af",
   "metadata": {},
   "outputs": [],
   "source": [
    "product_link =\" https://www.flipkart.com/thomson-phoenix-108-cm-43-inch-qled-ultra-hd-4k-smart-google-tv-dolby-vision-atmos/p/itm70a7a64aa66d3?pid=TVSGSHZRWZPTZ47Z&lid=LSTTVSGSHZRWZPTZ47ZXMEUVE&marketplace=FLIPKART&q=tv&store=ckf%2Fczl&srno=s_1_2&otracker=search&fm=organic&iid=en_GHENQEkKaMb7KToDmWrI_dLpd_NF0AWbPfrr50efyc9GQ98PAiGPSQYIbg2CbJqYzQwRvXLO3ZhslbFoh1bKsQ%3D%3D&ppt=None&ppn=None&ssid=zw6kry29io0000001708868566169&qH=c9a1fdac6e082dd8\""
   ]
  },
  {
   "cell_type": "code",
   "execution_count": 47,
   "id": "b40ae08f",
   "metadata": {},
   "outputs": [],
   "source": [
    "'''#we can get the href link for all products by doing :\n",
    "product_link = []\n",
    "for i in products:\n",
    "    product_link.append(\"https://www.flipkart.com\" + i.div.div.div.a['href'])\n",
    "   ''' "
   ]
  },
  {
   "cell_type": "code",
   "execution_count": 59,
   "id": "ea8874bf",
   "metadata": {},
   "outputs": [],
   "source": [
    "### now let's scrape the data from the pages by using requests\n",
    "\n",
    "product_req = requests.get(product_link)\n",
    "product_html = bs(product_req.text, 'html.parser')"
   ]
  },
  {
   "cell_type": "code",
   "execution_count": 62,
   "id": "1dade66b",
   "metadata": {},
   "outputs": [],
   "source": [
    "### Now we gave to scrap only the reviews\n",
    "\n",
    "reviews = product_html.find_all(\"div\", {\"class\":\"_16PBlm\"})"
   ]
  },
  {
   "cell_type": "code",
   "execution_count": 63,
   "id": "bf3a4266",
   "metadata": {},
   "outputs": [
    {
     "data": {
      "text/plain": [
       "11"
      ]
     },
     "execution_count": 63,
     "metadata": {},
     "output_type": "execute_result"
    }
   ],
   "source": [
    "len(reviews)"
   ]
  },
  {
   "cell_type": "code",
   "execution_count": 67,
   "id": "3d14e9ae",
   "metadata": {},
   "outputs": [
    {
     "data": {
      "text/plain": [
       "'ankunil das'"
      ]
     },
     "execution_count": 67,
     "metadata": {},
     "output_type": "execute_result"
    }
   ],
   "source": [
    "## Getting the person names\n",
    "reviews[0].div.div.find_all(\"p\", {\"class\": \"_2sc7ZR _2V5EHH\"})[0].text"
   ]
  },
  {
   "cell_type": "code",
   "execution_count": 69,
   "id": "cdf7de7b",
   "metadata": {},
   "outputs": [
    {
     "name": "stdout",
     "output_type": "stream",
     "text": [
      "ankunil das\n",
      "Dashrath kumar \n",
      "Samrat  Gatla\n",
      "Flipkart Customer\n",
      "M veera Suresh\n",
      "Vinodhini V\n",
      "sridhar tirunavukarasu\n",
      "Sandeep  Rajwanshi\n",
      "Lalit More\n",
      "Flipkart Customer\n"
     ]
    },
    {
     "ename": "AttributeError",
     "evalue": "'NoneType' object has no attribute 'div'",
     "output_type": "error",
     "traceback": [
      "\u001b[1;31m---------------------------------------------------------------------------\u001b[0m",
      "\u001b[1;31mAttributeError\u001b[0m                            Traceback (most recent call last)",
      "\u001b[1;32m~\\AppData\\Local\\Temp\\ipykernel_22008\\1551894123.py\u001b[0m in \u001b[0;36m<module>\u001b[1;34m\u001b[0m\n\u001b[0;32m      1\u001b[0m \u001b[1;31m#all the names\u001b[0m\u001b[1;33m\u001b[0m\u001b[1;33m\u001b[0m\u001b[0m\n\u001b[0;32m      2\u001b[0m \u001b[1;32mfor\u001b[0m \u001b[0mi\u001b[0m \u001b[1;32min\u001b[0m \u001b[0mreviews\u001b[0m\u001b[1;33m:\u001b[0m\u001b[1;33m\u001b[0m\u001b[1;33m\u001b[0m\u001b[0m\n\u001b[1;32m----> 3\u001b[1;33m     \u001b[0mprint\u001b[0m\u001b[1;33m(\u001b[0m\u001b[0mi\u001b[0m\u001b[1;33m.\u001b[0m\u001b[0mdiv\u001b[0m\u001b[1;33m.\u001b[0m\u001b[0mdiv\u001b[0m\u001b[1;33m.\u001b[0m\u001b[0mfind_all\u001b[0m\u001b[1;33m(\u001b[0m\u001b[1;34m\"p\"\u001b[0m\u001b[1;33m,\u001b[0m \u001b[1;33m{\u001b[0m\u001b[1;34m\"class\"\u001b[0m\u001b[1;33m:\u001b[0m \u001b[1;34m\"_2sc7ZR _2V5EHH\"\u001b[0m\u001b[1;33m}\u001b[0m\u001b[1;33m)\u001b[0m\u001b[1;33m[\u001b[0m\u001b[1;36m0\u001b[0m\u001b[1;33m]\u001b[0m\u001b[1;33m.\u001b[0m\u001b[0mtext\u001b[0m\u001b[1;33m)\u001b[0m\u001b[1;33m\u001b[0m\u001b[1;33m\u001b[0m\u001b[0m\n\u001b[0m",
      "\u001b[1;31mAttributeError\u001b[0m: 'NoneType' object has no attribute 'div'"
     ]
    }
   ],
   "source": [
    "#all the names\n",
    "for i in reviews:\n",
    "    print(i.div.div.find_all(\"p\", {\"class\": \"_2sc7ZR _2V5EHH\"})[0].text)"
   ]
  },
  {
   "cell_type": "code",
   "execution_count": 71,
   "id": "34301972",
   "metadata": {},
   "outputs": [
    {
     "data": {
      "text/plain": [
       "'1'"
      ]
     },
     "execution_count": 71,
     "metadata": {},
     "output_type": "execute_result"
    }
   ],
   "source": [
    "## Fetching the ratings\n",
    "reviews[0].div.div.div.div.text"
   ]
  },
  {
   "cell_type": "code",
   "execution_count": 72,
   "id": "5d692089",
   "metadata": {},
   "outputs": [
    {
     "name": "stdout",
     "output_type": "stream",
     "text": [
      "1\n",
      "5\n",
      "4\n",
      "4\n",
      "5\n",
      "5\n",
      "5\n",
      "5\n",
      "5\n",
      "5\n"
     ]
    },
    {
     "ename": "AttributeError",
     "evalue": "'NoneType' object has no attribute 'div'",
     "output_type": "error",
     "traceback": [
      "\u001b[1;31m---------------------------------------------------------------------------\u001b[0m",
      "\u001b[1;31mAttributeError\u001b[0m                            Traceback (most recent call last)",
      "\u001b[1;32m~\\AppData\\Local\\Temp\\ipykernel_22008\\1137619687.py\u001b[0m in \u001b[0;36m<module>\u001b[1;34m\u001b[0m\n\u001b[0;32m      1\u001b[0m \u001b[1;32mfor\u001b[0m \u001b[0mi\u001b[0m \u001b[1;32min\u001b[0m \u001b[0mreviews\u001b[0m\u001b[1;33m:\u001b[0m\u001b[1;33m\u001b[0m\u001b[1;33m\u001b[0m\u001b[0m\n\u001b[1;32m----> 2\u001b[1;33m     \u001b[0mprint\u001b[0m\u001b[1;33m(\u001b[0m\u001b[0mi\u001b[0m\u001b[1;33m.\u001b[0m\u001b[0mdiv\u001b[0m\u001b[1;33m.\u001b[0m\u001b[0mdiv\u001b[0m\u001b[1;33m.\u001b[0m\u001b[0mdiv\u001b[0m\u001b[1;33m.\u001b[0m\u001b[0mdiv\u001b[0m\u001b[1;33m.\u001b[0m\u001b[0mtext\u001b[0m\u001b[1;33m)\u001b[0m\u001b[1;33m\u001b[0m\u001b[1;33m\u001b[0m\u001b[0m\n\u001b[0m",
      "\u001b[1;31mAttributeError\u001b[0m: 'NoneType' object has no attribute 'div'"
     ]
    }
   ],
   "source": [
    "for i in reviews:\n",
    "    print(i.div.div.div.div.text)"
   ]
  },
  {
   "cell_type": "code",
   "execution_count": 73,
   "id": "7745bc0a",
   "metadata": {},
   "outputs": [
    {
     "data": {
      "text/plain": [
       "'Terrible product'"
      ]
     },
     "execution_count": 73,
     "metadata": {},
     "output_type": "execute_result"
    }
   ],
   "source": [
    "## Extracting the title of reviews\n",
    "reviews[0].div.div.div.p.text"
   ]
  },
  {
   "cell_type": "code",
   "execution_count": 74,
   "id": "44370b11",
   "metadata": {},
   "outputs": [
    {
     "name": "stdout",
     "output_type": "stream",
     "text": [
      "Terrible product\n",
      "Worth every penny\n",
      "Really Nice\n",
      "Very Good\n",
      "Just wow!\n",
      "Must buy!\n",
      "Just wow!\n",
      "Awesome\n",
      "Best in the market!\n",
      "Must buy!\n"
     ]
    },
    {
     "ename": "AttributeError",
     "evalue": "'NoneType' object has no attribute 'div'",
     "output_type": "error",
     "traceback": [
      "\u001b[1;31m---------------------------------------------------------------------------\u001b[0m",
      "\u001b[1;31mAttributeError\u001b[0m                            Traceback (most recent call last)",
      "\u001b[1;32m~\\AppData\\Local\\Temp\\ipykernel_22008\\2236249432.py\u001b[0m in \u001b[0;36m<module>\u001b[1;34m\u001b[0m\n\u001b[0;32m      1\u001b[0m \u001b[1;32mfor\u001b[0m \u001b[0mi\u001b[0m \u001b[1;32min\u001b[0m \u001b[0mreviews\u001b[0m\u001b[1;33m:\u001b[0m\u001b[1;33m\u001b[0m\u001b[1;33m\u001b[0m\u001b[0m\n\u001b[1;32m----> 2\u001b[1;33m     \u001b[0mprint\u001b[0m\u001b[1;33m(\u001b[0m\u001b[0mi\u001b[0m\u001b[1;33m.\u001b[0m\u001b[0mdiv\u001b[0m\u001b[1;33m.\u001b[0m\u001b[0mdiv\u001b[0m\u001b[1;33m.\u001b[0m\u001b[0mdiv\u001b[0m\u001b[1;33m.\u001b[0m\u001b[0mp\u001b[0m\u001b[1;33m.\u001b[0m\u001b[0mtext\u001b[0m\u001b[1;33m)\u001b[0m\u001b[1;33m\u001b[0m\u001b[1;33m\u001b[0m\u001b[0m\n\u001b[0m",
      "\u001b[1;31mAttributeError\u001b[0m: 'NoneType' object has no attribute 'div'"
     ]
    }
   ],
   "source": [
    "for i in reviews:\n",
    "    print(i.div.div.div.p.text)"
   ]
  },
  {
   "cell_type": "code",
   "execution_count": 75,
   "id": "0fade69c",
   "metadata": {},
   "outputs": [
    {
     "data": {
      "text/plain": [
       "'After sale service is the worst. Do not buy this product. More than one month got over people are not coming to repair. Can not call to customer care as well. Do not buy. Do not buy. Do not buy.READ MORE'"
      ]
     },
     "execution_count": 75,
     "metadata": {},
     "output_type": "execute_result"
    }
   ],
   "source": [
    "##getting the whole review\n",
    "reviews[0].div.div.find_all(\"div\", {\"class\": \"\"})[0].text"
   ]
  },
  {
   "cell_type": "code",
   "execution_count": 76,
   "id": "e7b35d26",
   "metadata": {},
   "outputs": [
    {
     "name": "stdout",
     "output_type": "stream",
     "text": [
      "After sale service is the worst. Do not buy this product. More than one month got over people are not coming to repair. Can not call to customer care as well. Do not buy. Do not buy. Do not buy.READ MORE\n",
      "Superb product Thank you flipkartREAD MORE\n",
      "So far so good. Only doubt is how long the TV will lasts !!READ MORE\n",
      "After 8 months a review Good Experience and picture quality is really niceREAD MORE\n",
      "Super good productREAD MORE\n",
      "Love this TV with an awesome picture clarity. Excellent pricing with good features . Brought this in Big Billions sale , Value for moneyREAD MORE\n",
      "Wonderful qled tv with smart features. Inam using this tv last 3 months.. no lags . Amazing work and 4k resolution is good.. sound is great.READ MORE\n",
      "Purchase the QLED 50inch tv on BBD and got it with great offer and discount I feel the picture quality is great and sound bass is not that great (since I have used to external speakers)But this QLED clarity and picture works amazing Dolby vision great Dolby atmos can be felt from external speakers Thomson Qled 50inch tv amazing 😍😍READ MORE\n",
      "Good Google tv , value of money 👍READ MORE\n",
      "One of the best viewing experienceQled tv in these price is unbeatable Really super Worth for money extremely Colors temperance is very very goodREAD MORE\n"
     ]
    },
    {
     "ename": "AttributeError",
     "evalue": "'NoneType' object has no attribute 'div'",
     "output_type": "error",
     "traceback": [
      "\u001b[1;31m---------------------------------------------------------------------------\u001b[0m",
      "\u001b[1;31mAttributeError\u001b[0m                            Traceback (most recent call last)",
      "\u001b[1;32m~\\AppData\\Local\\Temp\\ipykernel_22008\\3531952786.py\u001b[0m in \u001b[0;36m<module>\u001b[1;34m\u001b[0m\n\u001b[0;32m      1\u001b[0m \u001b[1;32mfor\u001b[0m \u001b[0mi\u001b[0m \u001b[1;32min\u001b[0m \u001b[0mreviews\u001b[0m\u001b[1;33m:\u001b[0m\u001b[1;33m\u001b[0m\u001b[1;33m\u001b[0m\u001b[0m\n\u001b[1;32m----> 2\u001b[1;33m     \u001b[0mprint\u001b[0m\u001b[1;33m(\u001b[0m\u001b[0mi\u001b[0m\u001b[1;33m.\u001b[0m\u001b[0mdiv\u001b[0m\u001b[1;33m.\u001b[0m\u001b[0mdiv\u001b[0m\u001b[1;33m.\u001b[0m\u001b[0mfind_all\u001b[0m\u001b[1;33m(\u001b[0m\u001b[1;34m\"div\"\u001b[0m\u001b[1;33m,\u001b[0m \u001b[1;33m{\u001b[0m\u001b[1;34m\"class\"\u001b[0m\u001b[1;33m:\u001b[0m \u001b[1;34m\"\"\u001b[0m\u001b[1;33m}\u001b[0m\u001b[1;33m)\u001b[0m\u001b[1;33m[\u001b[0m\u001b[1;36m0\u001b[0m\u001b[1;33m]\u001b[0m\u001b[1;33m.\u001b[0m\u001b[0mtext\u001b[0m\u001b[1;33m)\u001b[0m\u001b[1;33m\u001b[0m\u001b[1;33m\u001b[0m\u001b[0m\n\u001b[0m",
      "\u001b[1;31mAttributeError\u001b[0m: 'NoneType' object has no attribute 'div'"
     ]
    }
   ],
   "source": [
    "for i in reviews:\n",
    "    print(i.div.div.find_all(\"div\", {\"class\": \"\"})[0].text)"
   ]
  },
  {
   "cell_type": "code",
   "execution_count": null,
   "id": "e4cb7938",
   "metadata": {},
   "outputs": [],
   "source": []
  }
 ],
 "metadata": {
  "kernelspec": {
   "display_name": "Python 3 (ipykernel)",
   "language": "python",
   "name": "python3"
  },
  "language_info": {
   "codemirror_mode": {
    "name": "ipython",
    "version": 3
   },
   "file_extension": ".py",
   "mimetype": "text/x-python",
   "name": "python",
   "nbconvert_exporter": "python",
   "pygments_lexer": "ipython3",
   "version": "3.9.13"
  }
 },
 "nbformat": 4,
 "nbformat_minor": 5
}
